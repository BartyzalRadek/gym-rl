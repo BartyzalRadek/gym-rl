{
 "cells": [
  {
   "cell_type": "markdown",
   "metadata": {},
   "source": [
    "# Temporal-difference Learning"
   ]
  },
  {
   "cell_type": "code",
   "execution_count": 1,
   "metadata": {},
   "outputs": [],
   "source": [
    "from gym_basic import envs\n",
    "import gym\n",
    "import numpy\n",
    "from collections import defaultdict\n",
    "from matplotlib import pyplot"
   ]
  },
  {
   "cell_type": "markdown",
   "metadata": {},
   "source": [
    "## Windy Gridworld"
   ]
  },
  {
   "cell_type": "code",
   "execution_count": 2,
   "metadata": {},
   "outputs": [
    {
     "name": "stdout",
     "output_type": "stream",
     "text": [
      "episode finished after 12742 time steps\n"
     ]
    }
   ],
   "source": [
    "env = gym.make('WindyGridWorld-v0')\n",
    "\n",
    "observation = env.reset()\n",
    "t = 0\n",
    "while True:\n",
    "    action = env.action_space.sample()  # take a random action\n",
    "    observation, reward, done, info = env.step(action)\n",
    "    if done:\n",
    "        print('episode finished after {:>2} time steps'.format(t))\n",
    "        break\n",
    "    t += 1"
   ]
  },
  {
   "cell_type": "markdown",
   "metadata": {},
   "source": [
    "## Sarsa"
   ]
  },
  {
   "cell_type": "code",
   "execution_count": 3,
   "metadata": {},
   "outputs": [],
   "source": [
    "def epsilon_greedy_policy(env, S, Q, epsilon):\n",
    "    if numpy.random.rand() < epsilon:\n",
    "        return env.action_space.sample()\n",
    "    return numpy.argmax([Q[S, A] for A in range(env.action_space.n)])"
   ]
  },
  {
   "cell_type": "code",
   "execution_count": 4,
   "metadata": {},
   "outputs": [],
   "source": [
    "def sarsa(env, n_episodes, gamma=1.0, alpha=0.5, epsilon=0.1):\n",
    "    Q = defaultdict(float)\n",
    "    for _ in range(n_episodes):\n",
    "        S = env.reset()\n",
    "        A = epsilon_greedy_policy(env, S, Q, epsilon)\n",
    "        while True:\n",
    "            S_prime, R, done, _ = env.step(A)\n",
    "            A_prime = epsilon_greedy_policy(env, S_prime, Q, epsilon)\n",
    "            Q[S, A] += alpha * (R + gamma * Q[S_prime, A_prime] - Q[S, A])\n",
    "            S, A = S_prime, A_prime\n",
    "            if done:\n",
    "                break\n",
    "    return Q\n",
    "\n",
    "Q = sarsa(env, 1000)"
   ]
  },
  {
   "cell_type": "code",
   "execution_count": 5,
   "metadata": {},
   "outputs": [
    {
     "data": {
      "text/plain": [
       "array([[1, 1, 1, 1, 1, 1, 1, 1, 1, 2],\n",
       "       [0, 2, 2, 0, 1, 1, 1, 1, 0, 2],\n",
       "       [1, 1, 1, 2, 1, 1, 1, 1, 1, 2],\n",
       "       [1, 1, 1, 1, 0, 1, 2, 0, 1, 2],\n",
       "       [1, 1, 1, 1, 1, 1, 0, 2, 3, 3],\n",
       "       [1, 1, 1, 0, 1, 0, 0, 2, 3, 2],\n",
       "       [1, 1, 3, 1, 0, 0, 0, 0, 3, 3]])"
      ]
     },
     "execution_count": 5,
     "metadata": {},
     "output_type": "execute_result"
    }
   ],
   "source": [
    "def get_policy(env, Q):\n",
    "    policy = numpy.zeros((env.height, env.width), numpy.int)\n",
    "    for i in range(env.height):\n",
    "        for j in range(env.width):\n",
    "            S = i, j\n",
    "            policy[S] = numpy.argmax([Q[S, A] for A in range(env.action_space.n)])\n",
    "    return policy\n",
    "\n",
    "policy = get_policy(env, Q)\n",
    "policy"
   ]
  },
  {
   "cell_type": "code",
   "execution_count": 6,
   "metadata": {
    "scrolled": false
   },
   "outputs": [
    {
     "name": "stdout",
     "output_type": "stream",
     "text": [
      "state (3, 0), action 1, reward -1, action-value -18.081088152572576\n",
      "state (3, 1), action 1, reward -1, action-value -16.91780563236037\n",
      "state (3, 2), action 1, reward -1, action-value -15.482349051642993\n",
      "state (3, 3), action 1, reward -1, action-value -14.00191637711142\n",
      "state (2, 4), action 1, reward -1, action-value -12.818197863763585\n",
      "state (1, 5), action 1, reward -1, action-value -11.506771451143322\n",
      "state (0, 6), action 1, reward -1, action-value -9.976668181494084\n",
      "state (0, 7), action 1, reward -1, action-value -10.283853349773551\n",
      "state (0, 8), action 1, reward -1, action-value -8.030686904340547\n",
      "state (0, 9), action 2, reward -1, action-value -7.454925526416689\n",
      "state (1, 9), action 2, reward -1, action-value -6.162976797168255\n",
      "state (2, 9), action 2, reward -1, action-value -5.149927082644728\n",
      "state (3, 9), action 2, reward -1, action-value -4.4460564608838125\n",
      "state (4, 9), action 3, reward -1, action-value -3.062086854514084\n",
      "state (4, 8), action 3, reward -1, action-value -1.0\n",
      "finished after 15 time steps with total reward -15\n"
     ]
    }
   ],
   "source": [
    "S = env.reset()\n",
    "G = 0\n",
    "for t in range(16):\n",
    "    A = policy[S]\n",
    "    S_, R, done, info = env.step(A)\n",
    "    G += R\n",
    "    print('state {}, action {}, reward {}, action-value {}'.format(S, A, R, Q[S, A]))\n",
    "    S = S_\n",
    "    if done:\n",
    "        print('finished after {:>2} time steps with total reward {}'.format(t + 1, G))\n",
    "        break"
   ]
  },
  {
   "cell_type": "markdown",
   "metadata": {},
   "source": [
    "## Q-learning"
   ]
  },
  {
   "cell_type": "code",
   "execution_count": 7,
   "metadata": {
    "scrolled": true
   },
   "outputs": [],
   "source": [
    "cliff = gym.make('Cliff-v0')"
   ]
  },
  {
   "cell_type": "code",
   "execution_count": 8,
   "metadata": {},
   "outputs": [
    {
     "data": {
      "text/plain": [
       "array([[1, 3, 1, 3, 2, 3, 2, 0, 1, 1, 1, 2],\n",
       "       [2, 1, 0, 2, 2, 2, 1, 1, 1, 1, 2, 2],\n",
       "       [1, 1, 1, 1, 1, 1, 1, 1, 1, 1, 1, 2],\n",
       "       [0, 0, 0, 0, 0, 0, 0, 0, 0, 0, 0, 0]])"
      ]
     },
     "execution_count": 8,
     "metadata": {},
     "output_type": "execute_result"
    }
   ],
   "source": [
    "def q_learning(env, n_episodes, gamma=1.0, alpha=0.5, epsilon=0.1):\n",
    "    Q = defaultdict(float)\n",
    "    \n",
    "    for _ in range(n_episodes):\n",
    "        S = env.reset()\n",
    "        while True:\n",
    "            A = epsilon_greedy_policy(env, S, Q, epsilon)\n",
    "            S_prime, R, done, _ = env.step(A)\n",
    "            max_Q = numpy.max([Q[S_prime, A] for A in range(env.action_space.n)])\n",
    "            Q[S, A] += alpha * (R + gamma * max_Q - Q[S, A])\n",
    "            S = S_prime\n",
    "            if done:\n",
    "                break\n",
    "\n",
    "    return Q\n",
    "\n",
    "get_policy(cliff, q_learning(cliff, 200))"
   ]
  },
  {
   "cell_type": "code",
   "execution_count": 9,
   "metadata": {},
   "outputs": [
    {
     "data": {
      "text/plain": [
       "array([[1, 1, 1, 1, 1, 1, 1, 1, 1, 1, 1, 2],\n",
       "       [0, 0, 0, 0, 0, 0, 1, 1, 0, 0, 1, 2],\n",
       "       [1, 1, 0, 3, 0, 0, 0, 1, 3, 3, 1, 2],\n",
       "       [0, 0, 0, 0, 0, 0, 0, 0, 0, 0, 0, 0]])"
      ]
     },
     "execution_count": 9,
     "metadata": {},
     "output_type": "execute_result"
    }
   ],
   "source": [
    "get_policy(cliff, sarsa(cliff, 200))"
   ]
  },
  {
   "cell_type": "code",
   "execution_count": 10,
   "metadata": {},
   "outputs": [],
   "source": [
    "# TODO sum of reward during episodes graph\n",
    "# see figure 6.4 in Sutton's book"
   ]
  },
  {
   "cell_type": "code",
   "execution_count": 11,
   "metadata": {},
   "outputs": [
    {
     "name": "stdout",
     "output_type": "stream",
     "text": [
      "state (3, 0), action 1, reward -1, action-value -15.0\n",
      "state (3, 1), action 1, reward -1, action-value -14.0\n",
      "state (3, 2), action 1, reward -1, action-value -13.0\n",
      "state (3, 3), action 1, reward -1, action-value -12.0\n",
      "state (2, 4), action 1, reward -1, action-value -11.0\n",
      "state (1, 5), action 1, reward -1, action-value -10.0\n",
      "state (0, 6), action 1, reward -1, action-value -9.0\n",
      "state (0, 7), action 1, reward -1, action-value -8.0\n",
      "state (0, 8), action 1, reward -1, action-value -7.0\n",
      "state (0, 9), action 2, reward -1, action-value -6.0\n",
      "state (1, 9), action 2, reward -1, action-value -5.0\n",
      "state (2, 9), action 2, reward -1, action-value -4.0\n",
      "state (3, 9), action 2, reward -1, action-value -3.0\n",
      "state (4, 9), action 3, reward -1, action-value -2.0\n",
      "state (4, 8), action 3, reward -1, action-value -1.0\n",
      "finished after 15 time steps with total reward -15\n"
     ]
    }
   ],
   "source": [
    "Q = q_learning(env, 200)\n",
    "policy = get_policy(env, Q)\n",
    "\n",
    "S = env.reset()\n",
    "G = 0\n",
    "for t in range(16):\n",
    "    A = policy[S]\n",
    "    S_, R, done, info = env.step(A)\n",
    "    G += R\n",
    "    print('state {}, action {}, reward {}, action-value {}'.format(S, A, R, Q[S, A]))\n",
    "    S = S_\n",
    "    if done:\n",
    "        print('finished after {:>2} time steps with total reward {}'.format(t + 1, G))\n",
    "        break"
   ]
  }
 ],
 "metadata": {
  "kernelspec": {
   "display_name": "Python 3",
   "language": "python",
   "name": "python3"
  },
  "language_info": {
   "codemirror_mode": {
    "name": "ipython",
    "version": 3
   },
   "file_extension": ".py",
   "mimetype": "text/x-python",
   "name": "python",
   "nbconvert_exporter": "python",
   "pygments_lexer": "ipython3",
   "version": "3.6.3"
  }
 },
 "nbformat": 4,
 "nbformat_minor": 2
}
