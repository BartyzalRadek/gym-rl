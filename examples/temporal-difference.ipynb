{
 "cells": [
  {
   "cell_type": "markdown",
   "metadata": {},
   "source": [
    "# Temporal-difference Learning"
   ]
  },
  {
   "cell_type": "code",
   "execution_count": 1,
   "metadata": {},
   "outputs": [],
   "source": [
    "import gym\n",
    "import gym_gridworlds\n",
    "import numpy\n",
    "from matplotlib import pyplot\n",
    "import temporal_difference"
   ]
  },
  {
   "cell_type": "markdown",
   "metadata": {},
   "source": [
    "## Windy Gridworld"
   ]
  },
  {
   "cell_type": "code",
   "execution_count": 2,
   "metadata": {},
   "outputs": [
    {
     "name": "stdout",
     "output_type": "stream",
     "text": [
      "episode finished after 12742 time steps\n"
     ]
    }
   ],
   "source": [
    "env = gym.make('WindyGridworld-v0')\n",
    "\n",
    "observation = env.reset()\n",
    "t = 0\n",
    "while True:\n",
    "    action = env.action_space.sample()  # take a random action\n",
    "    observation, reward, done, info = env.step(action)\n",
    "    if done:\n",
    "        print('episode finished after {:>2} time steps'.format(t))\n",
    "        break\n",
    "    t += 1"
   ]
  },
  {
   "cell_type": "code",
   "execution_count": 3,
   "metadata": {},
   "outputs": [
    {
     "data": {
      "text/plain": [
       "(Tuple(Discrete(7), Discrete(10)), 4)"
      ]
     },
     "execution_count": 3,
     "metadata": {},
     "output_type": "execute_result"
    }
   ],
   "source": [
    "env.observation_space, env.action_space.n"
   ]
  },
  {
   "cell_type": "markdown",
   "metadata": {},
   "source": [
    "## Sarsa"
   ]
  },
  {
   "cell_type": "code",
   "execution_count": 4,
   "metadata": {},
   "outputs": [],
   "source": [
    "Q = temporal_difference.sarsa(env, 1000)"
   ]
  },
  {
   "cell_type": "code",
   "execution_count": 5,
   "metadata": {},
   "outputs": [
    {
     "data": {
      "text/plain": [
       "array([[3, 2, 1, 1, 1, 1, 1, 1, 1, 2],\n",
       "       [1, 1, 0, 1, 1, 1, 1, 3, 1, 2],\n",
       "       [1, 2, 1, 1, 1, 1, 2, 2, 0, 2],\n",
       "       [1, 1, 1, 1, 1, 1, 1, 0, 1, 2],\n",
       "       [2, 2, 1, 1, 1, 0, 0, 2, 3, 3],\n",
       "       [2, 1, 1, 1, 1, 0, 0, 2, 3, 2],\n",
       "       [1, 1, 2, 1, 0, 0, 0, 0, 0, 3]])"
      ]
     },
     "execution_count": 5,
     "metadata": {},
     "output_type": "execute_result"
    }
   ],
   "source": [
    "policy = temporal_difference.get_policy(env, Q)\n",
    "policy"
   ]
  },
  {
   "cell_type": "code",
   "execution_count": 6,
   "metadata": {
    "scrolled": false
   },
   "outputs": [
    {
     "name": "stdout",
     "output_type": "stream",
     "text": [
      "state (3, 0), action 1, reward -1, action-value -19.675552920994605\n",
      "state (3, 1), action 1, reward -1, action-value -18.54148292616015\n",
      "state (3, 2), action 1, reward -1, action-value -16.925751478125065\n",
      "state (3, 3), action 1, reward -1, action-value -15.418318186679832\n",
      "state (2, 4), action 1, reward -1, action-value -13.740208551372739\n",
      "state (1, 5), action 1, reward -1, action-value -12.156804957292444\n",
      "state (0, 6), action 1, reward -1, action-value -11.083797422386203\n",
      "state (0, 7), action 1, reward -1, action-value -10.280394531831941\n",
      "state (0, 8), action 1, reward -1, action-value -10.288003145514383\n",
      "state (0, 9), action 2, reward -1, action-value -6.904289886327083\n",
      "state (1, 9), action 2, reward -1, action-value -5.347040625875234\n",
      "state (2, 9), action 2, reward -1, action-value -4.325845272773201\n",
      "state (3, 9), action 2, reward -1, action-value -3.4978011279837524\n",
      "state (4, 9), action 3, reward -1, action-value -2.3266639503301896\n",
      "state (4, 8), action 3, reward -1, action-value -1.0\n",
      "finished after 15 time steps with total reward -15\n"
     ]
    }
   ],
   "source": [
    "S = env.reset()\n",
    "G = 0\n",
    "for t in range(16):\n",
    "    A = policy[S]\n",
    "    S_, R, done, info = env.step(A)\n",
    "    G += R\n",
    "    print('state {}, action {}, reward {}, action-value {}'.format(S, A, R, Q[S, A]))\n",
    "    S = S_\n",
    "    if done:\n",
    "        print('finished after {:>2} time steps with total reward {}'.format(t + 1, G))\n",
    "        break"
   ]
  },
  {
   "cell_type": "markdown",
   "metadata": {},
   "source": [
    "## Q-learning"
   ]
  },
  {
   "cell_type": "code",
   "execution_count": 7,
   "metadata": {
    "scrolled": true
   },
   "outputs": [],
   "source": [
    "cliff = gym.make('Cliff-v0')"
   ]
  },
  {
   "cell_type": "code",
   "execution_count": 8,
   "metadata": {},
   "outputs": [
    {
     "data": {
      "text/plain": [
       "array([[3, 1, 3, 1, 1, 1, 2, 0, 0, 1, 1, 2],\n",
       "       [1, 1, 1, 1, 1, 1, 1, 1, 1, 2, 1, 2],\n",
       "       [1, 1, 1, 1, 1, 1, 1, 1, 1, 1, 1, 2],\n",
       "       [0, 0, 0, 0, 0, 0, 0, 0, 0, 0, 0, 0]])"
      ]
     },
     "execution_count": 8,
     "metadata": {},
     "output_type": "execute_result"
    }
   ],
   "source": [
    "temporal_difference.get_policy(cliff, temporal_difference.q_learning(cliff, 200))"
   ]
  },
  {
   "cell_type": "code",
   "execution_count": 9,
   "metadata": {},
   "outputs": [
    {
     "data": {
      "text/plain": [
       "array([[1, 1, 1, 1, 1, 1, 1, 1, 1, 1, 1, 2],\n",
       "       [0, 0, 1, 1, 0, 1, 1, 1, 1, 0, 1, 2],\n",
       "       [0, 0, 0, 0, 0, 0, 0, 0, 0, 3, 1, 2],\n",
       "       [0, 0, 0, 0, 0, 0, 0, 0, 0, 0, 0, 0]])"
      ]
     },
     "execution_count": 9,
     "metadata": {},
     "output_type": "execute_result"
    }
   ],
   "source": [
    "temporal_difference.get_policy(cliff, temporal_difference.sarsa(cliff, 200))"
   ]
  },
  {
   "cell_type": "code",
   "execution_count": 10,
   "metadata": {
    "scrolled": true
   },
   "outputs": [
    {
     "name": "stdout",
     "output_type": "stream",
     "text": [
      "state (3, 0), action 1, reward -1, action-value -15.0\n",
      "state (3, 1), action 1, reward -1, action-value -14.0\n",
      "state (3, 2), action 1, reward -1, action-value -13.0\n",
      "state (3, 3), action 1, reward -1, action-value -12.0\n",
      "state (2, 4), action 1, reward -1, action-value -11.0\n",
      "state (1, 5), action 1, reward -1, action-value -10.0\n",
      "state (0, 6), action 1, reward -1, action-value -9.0\n",
      "state (0, 7), action 1, reward -1, action-value -8.0\n",
      "state (0, 8), action 1, reward -1, action-value -7.0\n",
      "state (0, 9), action 2, reward -1, action-value -6.0\n",
      "state (1, 9), action 2, reward -1, action-value -5.0\n",
      "state (2, 9), action 2, reward -1, action-value -4.0\n",
      "state (3, 9), action 2, reward -1, action-value -3.0\n",
      "state (4, 9), action 3, reward -1, action-value -2.0\n",
      "state (4, 8), action 3, reward -1, action-value -1.0\n",
      "finished after 15 time steps with total reward -15\n"
     ]
    }
   ],
   "source": [
    "Q = temporal_difference.q_learning(env, 200)\n",
    "policy = temporal_difference.get_policy(env, Q)\n",
    "\n",
    "S = env.reset()\n",
    "G = 0\n",
    "for t in range(16):\n",
    "    A = policy[S]\n",
    "    S_, R, done, info = env.step(A)\n",
    "    G += R\n",
    "    print('state {}, action {}, reward {}, action-value {}'.format(S, A, R, Q[S, A]))\n",
    "    S = S_\n",
    "    if done:\n",
    "        print('finished after {:>2} time steps with total reward {}'.format(t + 1, G))\n",
    "        break"
   ]
  }
 ],
 "metadata": {
  "kernelspec": {
   "display_name": "Python 3",
   "language": "python",
   "name": "python3"
  },
  "language_info": {
   "codemirror_mode": {
    "name": "ipython",
    "version": 3
   },
   "file_extension": ".py",
   "mimetype": "text/x-python",
   "name": "python",
   "nbconvert_exporter": "python",
   "pygments_lexer": "ipython3",
   "version": "3.6.3"
  }
 },
 "nbformat": 4,
 "nbformat_minor": 2
}
