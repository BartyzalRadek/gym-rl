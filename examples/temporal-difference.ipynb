{
 "cells": [
  {
   "cell_type": "markdown",
   "metadata": {},
   "source": [
    "# Temporal-difference Learning"
   ]
  },
  {
   "cell_type": "code",
   "execution_count": 1,
   "metadata": {},
   "outputs": [],
   "source": [
    "from gym_basic import envs\n",
    "import gym\n",
    "import numpy\n",
    "from collections import defaultdict\n",
    "from matplotlib import pyplot"
   ]
  },
  {
   "cell_type": "markdown",
   "metadata": {},
   "source": [
    "## Windy Gridworld"
   ]
  },
  {
   "cell_type": "code",
   "execution_count": 2,
   "metadata": {},
   "outputs": [],
   "source": [
    "env = gym.make('WindyGridWorld-v0')"
   ]
  },
  {
   "cell_type": "code",
   "execution_count": 3,
   "metadata": {},
   "outputs": [
    {
     "name": "stdout",
     "output_type": "stream",
     "text": [
      "episode finished after 12742 time steps\n"
     ]
    }
   ],
   "source": [
    "observation = env.reset()\n",
    "t = 0\n",
    "while True:\n",
    "    action = env.action_space.sample()  # take a random action\n",
    "    observation, reward, done, info = env.step(action)\n",
    "    if done:\n",
    "        print('episode finished after {:>2} time steps'.format(t))\n",
    "        break\n",
    "    t += 1"
   ]
  },
  {
   "cell_type": "markdown",
   "metadata": {},
   "source": [
    "## Sarsa"
   ]
  },
  {
   "cell_type": "code",
   "execution_count": 4,
   "metadata": {},
   "outputs": [],
   "source": [
    "def epsilon_greedy_policy(env, S, Q, epsilon):\n",
    "    if numpy.random.rand() < epsilon:\n",
    "        return env.action_space.sample()\n",
    "    return numpy.argmax([Q[S, A] for A in range(env.action_space.n)])"
   ]
  },
  {
   "cell_type": "code",
   "execution_count": 5,
   "metadata": {},
   "outputs": [],
   "source": [
    "def sarsa(env, n_episodes, gamma=1.0, alpha=0.5, epsilon=0.1):\n",
    "    Q = defaultdict(float)\n",
    "    stats = []\n",
    "    t = 0\n",
    "    for _ in range(n_episodes):\n",
    "        S = env.reset()\n",
    "        A = epsilon_greedy_policy(env, S, Q, epsilon)\n",
    "        while True:\n",
    "            S_prime, R, done, _ = env.step(A)\n",
    "            A_prime = epsilon_greedy_policy(env, S_prime, Q, epsilon)\n",
    "            Q[S, A] += alpha * (R + gamma * Q[S_prime, A_prime] - Q[S, A])\n",
    "            S, A = S_prime, A_prime\n",
    "            t += 1\n",
    "            if done:\n",
    "                break\n",
    "        stats.append(t)\n",
    "    return Q, stats\n",
    "\n",
    "Q, stats = sarsa(env, 50000)"
   ]
  },
  {
   "cell_type": "code",
   "execution_count": 6,
   "metadata": {
    "scrolled": true
   },
   "outputs": [
    {
     "data": {
      "image/png": "[encoded data removed]",
      "text/plain": [
       "<matplotlib.figure.Figure at 0x7f756e4d8cf8>"
      ]
     },
     "metadata": {},
     "output_type": "display_data"
    }
   ],
   "source": [
    "pyplot.plot(stats[:170], range(170))\n",
    "pyplot.grid()"
   ]
  },
  {
   "cell_type": "code",
   "execution_count": 7,
   "metadata": {
    "scrolled": false
   },
   "outputs": [
    {
     "name": "stdout",
     "output_type": "stream",
     "text": [
      "state (3, 0), action 1, reward -1, action-value -18.615445614160677\n",
      "state (3, 1), action 1, reward -1, action-value -18.513248712078372\n",
      "state (3, 2), action 2, reward -1, action-value -17.172846544187863\n",
      "state (4, 2), action 1, reward -1, action-value -15.556759894029714\n",
      "state (4, 3), action 1, reward -1, action-value -15.2494433470952\n",
      "state (3, 4), action 1, reward -1, action-value -13.394331984562085\n",
      "state (2, 5), action 1, reward -1, action-value -12.183691427800287\n",
      "state (1, 6), action 1, reward -1, action-value -11.567998548439931\n",
      "state (0, 7), action 1, reward -1, action-value -9.73047638473176\n",
      "state (0, 8), action 1, reward -1, action-value -7.220785890211758\n",
      "state (0, 9), action 2, reward -1, action-value -6.145693448800314\n",
      "state (1, 9), action 2, reward -1, action-value -5.173364506037853\n",
      "state (2, 9), action 2, reward -1, action-value -4.159818331317963\n",
      "state (3, 9), action 2, reward -1, action-value -3.0788106600527367\n",
      "state (4, 9), action 3, reward -1, action-value -2.0157166398775686\n",
      "state (4, 8), action 3, reward -1, action-value -1.0\n",
      "finished after 16 time steps with total reward -16\n"
     ]
    },
    {
     "data": {
      "text/plain": [
       "array([[-19, -17, -15, -14, -13, -12, -11,  -9,  -7,  -6],\n",
       "       [-18, -17, -16, -14, -15, -11, -11,  -9, -10,  -5],\n",
       "       [-19, -18, -17, -16, -12, -12, -11, -11,  -8,  -4],\n",
       "       [-18, -18, -17, -14, -13, -14, -11,   0,  -8,  -3],\n",
       "       [-20, -16, -15, -15, -15, -13,   0,  -1,  -1,  -2],\n",
       "       [-19, -18, -16, -15, -14,   0,   0,  -3,  -7,  -7],\n",
       "       [-19, -18, -16, -15,   0,   0,   0,   0,  -2,  -5]])"
      ]
     },
     "execution_count": 7,
     "metadata": {},
     "output_type": "execute_result"
    }
   ],
   "source": [
    "policy = numpy.zeros((env.height, env.width), numpy.int)\n",
    "V = numpy.zeros((env.height, env.width), numpy.int)\n",
    "for i in range(env.height):\n",
    "    for j in range(env.width):\n",
    "        S = i, j\n",
    "        policy[S] = numpy.argmax([Q[S, A] for A in range(env.action_space.n)])\n",
    "        V[S] = numpy.max([Q[S, A] for A in range(env.action_space.n)])\n",
    "\n",
    "S = env.reset()\n",
    "G = 0\n",
    "for t in range(16):\n",
    "    A = policy[S]\n",
    "    S_, R, done, info = env.step(A)\n",
    "    G += R\n",
    "    print('state {}, action {}, reward {}, action-value {}'.format(S, A, R, Q[S, A]))\n",
    "    S = S_\n",
    "    if done:\n",
    "        print('finished after {:>2} time steps with total reward {}'.format(t + 1, G))\n",
    "        break\n",
    "\n",
    "V"
   ]
  }
 ],
 "metadata": {
  "kernelspec": {
   "display_name": "Python 3",
   "language": "python",
   "name": "python3"
  },
  "language_info": {
   "codemirror_mode": {
    "name": "ipython",
    "version": 3
   },
   "file_extension": ".py",
   "mimetype": "text/x-python",
   "name": "python",
   "nbconvert_exporter": "python",
   "pygments_lexer": "ipython3",
   "version": "3.6.3"
  }
 },
 "nbformat": 4,
 "nbformat_minor": 2
}
