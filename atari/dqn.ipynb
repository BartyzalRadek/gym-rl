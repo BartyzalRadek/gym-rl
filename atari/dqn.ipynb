{
 "cells": [
  {
   "cell_type": "markdown",
   "metadata": {},
   "source": [
    "# Deep Q-learning"
   ]
  },
  {
   "cell_type": "code",
   "execution_count": 1,
   "metadata": {},
   "outputs": [
    {
     "name": "stderr",
     "output_type": "stream",
     "text": [
      "/home/podondra/gym-rl/venv/lib/python3.6/site-packages/h5py/__init__.py:36: FutureWarning: Conversion of the second argument of issubdtype from `float` to `np.floating` is deprecated. In future, it will be treated as `np.float64 == np.dtype(float).type`.\n",
      "  from ._conv import register_converters as _register_converters\n"
     ]
    }
   ],
   "source": [
    "import gym\n",
    "import tensorflow\n",
    "from matplotlib import pyplot\n",
    "import dqn"
   ]
  },
  {
   "cell_type": "markdown",
   "metadata": {},
   "source": [
    "## Atari 2600 Breakout"
   ]
  },
  {
   "cell_type": "code",
   "execution_count": 2,
   "metadata": {},
   "outputs": [
    {
     "data": {
      "text/plain": [
       "(Discrete(4), Box(210, 160, 3))"
      ]
     },
     "execution_count": 2,
     "metadata": {},
     "output_type": "execute_result"
    }
   ],
   "source": [
    "env = gym.make('Breakout-v0')\n",
    "env.action_space, env.observation_space\n",
    "# env.observation_space.low, env.observation_space.high"
   ]
  },
  {
   "cell_type": "code",
   "execution_count": 3,
   "metadata": {},
   "outputs": [
    {
     "data": {
      "text/plain": [
       "['NOOP', 'FIRE', 'RIGHT', 'LEFT']"
      ]
     },
     "execution_count": 3,
     "metadata": {},
     "output_type": "execute_result"
    }
   ],
   "source": [
    "env.env.get_action_meanings()"
   ]
  },
  {
   "cell_type": "code",
   "execution_count": 4,
   "metadata": {},
   "outputs": [
    {
     "name": "stdout",
     "output_type": "stream",
     "text": [
      "1.0\n"
     ]
    },
    {
     "data": {
      "text/plain": [
       "({'ale.lives': 0}, (210, 160, 3))"
      ]
     },
     "execution_count": 4,
     "metadata": {},
     "output_type": "execute_result"
    }
   ],
   "source": [
    "S = env.reset()\n",
    "for t in range(250):\n",
    "    env.render()\n",
    "    # take a random action\n",
    "    A = env.action_space.sample()\n",
    "    S_next, R, done, info = env.step(A)\n",
    "    if R:\n",
    "        print(R)\n",
    "    if done:\n",
    "        break\n",
    "env.render(close=True)\n",
    "info, S.shape"
   ]
  },
  {
   "cell_type": "code",
   "execution_count": 5,
   "metadata": {},
   "outputs": [
    {
     "data": {
      "text/plain": [
       "<matplotlib.image.AxesImage at 0x7fd86e4e0d68>"
      ]
     },
     "execution_count": 5,
     "metadata": {},
     "output_type": "execute_result"
    },
    {
     "data": {
      "image/png": "[encoded data removed]",
      "text/plain": [
       "<matplotlib.figure.Figure at 0x7fd8749dfbe0>"
      ]
     },
     "metadata": {},
     "output_type": "display_data"
    }
   ],
   "source": [
    "fig, (ax1, ax2) = pyplot.subplots(ncols=2)\n",
    "ax1.imshow(S)\n",
    "ax2.imshow(S_next)"
   ]
  },
  {
   "cell_type": "markdown",
   "metadata": {},
   "source": [
    "## Preprocessing"
   ]
  },
  {
   "cell_type": "code",
   "execution_count": 6,
   "metadata": {
    "scrolled": true
   },
   "outputs": [
    {
     "data": {
      "text/plain": [
       "<matplotlib.image.AxesImage at 0x7fd864393278>"
      ]
     },
     "execution_count": 6,
     "metadata": {},
     "output_type": "execute_result"
    },
    {
     "data": {
      "image/png": "[encoded data removed]",
      "text/plain": [
       "<matplotlib.figure.Figure at 0x7fd86e4a4898>"
      ]
     },
     "metadata": {},
     "output_type": "display_data"
    }
   ],
   "source": [
    "preprocess = dqn.Preprocessor()\n",
    "sess = tensorflow.InteractiveSession()\n",
    "theta = preprocess(S, sess)\n",
    "theta_next = preprocess(S_next, sess)\n",
    "fig, (ax1, ax2) = pyplot.subplots(ncols=2)\n",
    "ax1.imshow(theta, cmap='gray')\n",
    "ax2.imshow(theta_next, cmap='gray')"
   ]
  },
  {
   "cell_type": "markdown",
   "metadata": {},
   "source": [
    "## Experience Replay"
   ]
  },
  {
   "cell_type": "code",
   "execution_count": 7,
   "metadata": {},
   "outputs": [
    {
     "data": {
      "text/plain": [
       "50000"
      ]
     },
     "execution_count": 7,
     "metadata": {},
     "output_type": "execute_result"
    }
   ],
   "source": [
    "D = dqn.ReplayMemory(env, preprocess, sess)\n",
    "len(D)"
   ]
  },
  {
   "cell_type": "code",
   "execution_count": 8,
   "metadata": {},
   "outputs": [
    {
     "data": {
      "text/plain": [
       "(True, 50001)"
      ]
     },
     "execution_count": 8,
     "metadata": {},
     "output_type": "execute_result"
    }
   ],
   "source": [
    "D.store(theta, A, R)\n",
    "D[-1] == (theta, A, R), len(D)"
   ]
  },
  {
   "cell_type": "code",
   "execution_count": 9,
   "metadata": {},
   "outputs": [
    {
     "data": {
      "text/plain": [
       "(84, 84, 4)"
      ]
     },
     "execution_count": 9,
     "metadata": {},
     "output_type": "execute_result"
    }
   ],
   "source": [
    "S = D.get_recent_state()\n",
    "S.shape"
   ]
  },
  {
   "cell_type": "code",
   "execution_count": 10,
   "metadata": {},
   "outputs": [
    {
     "data": {
      "text/plain": [
       "32"
      ]
     },
     "execution_count": 10,
     "metadata": {},
     "output_type": "execute_result"
    }
   ],
   "source": [
    "ys = D.sample_minibatch()\n",
    "S, A, R, S_next = ys[0]\n",
    "len(ys)"
   ]
  },
  {
   "cell_type": "code",
   "execution_count": 11,
   "metadata": {},
   "outputs": [
    {
     "data": {
      "image/png": "[encoded data removed]",
      "text/plain": [
       "<matplotlib.figure.Figure at 0x7fd86d1e4e10>"
      ]
     },
     "metadata": {},
     "output_type": "display_data"
    }
   ],
   "source": [
    "f, axes = pyplot.subplots(nrows=2, ncols=4)\n",
    "for i, ax in enumerate(axes.T):\n",
    "    ax[0].imshow(S[..., i], cmap='gray')\n",
    "    ax[1].imshow(S_next[..., i], cmap='gray')"
   ]
  },
  {
   "cell_type": "markdown",
   "metadata": {},
   "source": [
    "## Deep Q-network"
   ]
  },
  {
   "cell_type": "code",
   "execution_count": null,
   "metadata": {},
   "outputs": [],
   "source": [
    "deep_q_network = dqn.DQN(env)"
   ]
  },
  {
   "cell_type": "markdown",
   "metadata": {},
   "source": [
    "## Algorithm"
   ]
  },
  {
   "cell_type": "code",
   "execution_count": null,
   "metadata": {},
   "outputs": [],
   "source": [
    "def deep_q_learning(env, time_steps):\n",
    "    C = 10000  # target network update frequency\n",
    "    time_steps_counter = range(1, time_steps + 1)\n",
    "    preprocess = dqn.Preprocessor()\n",
    "\n",
    "    # initialize replay memory\n",
    "    D = dqn.ReplayMemory()\n",
    "    # initialize action-value function with random weights\n",
    "    Q = dqn.DQN(env)\n",
    "    # intialize taget action-value function\n",
    "    target_Q = dqn.DQN(env, Q.clone_weights())\n",
    "    for episode in itertools.count():\n",
    "        # intialize sequence\n",
    "        X = env.reset()\n",
    "        theta = preprocess(X)\n",
    "        for t in time_step_counter:\n",
    "            # choose epsilon greedy action\n",
    "            A = Q.epsilon_greedy_action(D.get_recent_state())\n",
    "            # execute action in emulator and observe reward and image\n",
    "            X_next, R, done, _ = env.step(A)\n",
    "            theta_next = preprocess(X_next)\n",
    "            # store transition in replay memory\n",
    "            D.store(theta, A, R)\n",
    "            # sample minibatch from replay memory\n",
    "            transitions = D.sample_minibatch()\n",
    "            # set y\n",
    "            ys = target_Q.get_q_value(transitions)\n",
    "            # perform gradient descent step\n",
    "            Q.gradient_descent_step(ys, Ss, As, sess)\n",
    "            # every C steps reset target_Q = Q\n",
    "            if time_step_counter % C == 0:\n",
    "                target_Q.weights = Q.clone_weights()\n",
    "            if done:\n",
    "                D.store(theta_next, -1, 0)\n",
    "                break\n",
    "            X, theta = X_next, theta_next\n",
    "\n",
    "deep_q_learning(env, 100)"
   ]
  }
 ],
 "metadata": {
  "kernelspec": {
   "display_name": "Python 3",
   "language": "python",
   "name": "python3"
  },
  "language_info": {
   "codemirror_mode": {
    "name": "ipython",
    "version": 3
   },
   "file_extension": ".py",
   "mimetype": "text/x-python",
   "name": "python",
   "nbconvert_exporter": "python",
   "pygments_lexer": "ipython3",
   "version": "3.6.3"
  }
 },
 "nbformat": 4,
 "nbformat_minor": 2
}
