{
 "cells": [
  {
   "cell_type": "markdown",
   "metadata": {},
   "source": [
    "# Deep Q-network"
   ]
  },
  {
   "cell_type": "code",
   "execution_count": 1,
   "metadata": {},
   "outputs": [
    {
     "name": "stderr",
     "output_type": "stream",
     "text": [
      "/home/podondra/gym-rl/venv/lib/python3.6/site-packages/h5py/__init__.py:36: FutureWarning: Conversion of the second argument of issubdtype from `float` to `np.floating` is deprecated. In future, it will be treated as `np.float64 == np.dtype(float).type`.\n",
      "  from ._conv import register_converters as _register_converters\n"
     ]
    }
   ],
   "source": [
    "import gym\n",
    "import tensorflow\n",
    "from matplotlib import pyplot\n",
    "import dqn"
   ]
  },
  {
   "cell_type": "code",
   "execution_count": 2,
   "metadata": {},
   "outputs": [
    {
     "data": {
      "text/plain": [
       "(Discrete(4), Box(210, 160, 3))"
      ]
     },
     "execution_count": 2,
     "metadata": {},
     "output_type": "execute_result"
    }
   ],
   "source": [
    "env = gym.make('Breakout-v0')\n",
    "env.action_space, env.observation_space\n",
    "# env.observation_space.low, env.observation_space.high"
   ]
  },
  {
   "cell_type": "code",
   "execution_count": 3,
   "metadata": {},
   "outputs": [
    {
     "data": {
      "text/plain": [
       "['NOOP', 'FIRE', 'RIGHT', 'LEFT']"
      ]
     },
     "execution_count": 3,
     "metadata": {},
     "output_type": "execute_result"
    }
   ],
   "source": [
    "env.env.get_action_meanings()"
   ]
  },
  {
   "cell_type": "code",
   "execution_count": 4,
   "metadata": {},
   "outputs": [],
   "source": [
    "env.reset()\n",
    "for _ in range(100):\n",
    "    env.render()\n",
    "    # take a random action\n",
    "    _, _, done, _ = env.step(env.action_space.sample())\n",
    "    if done:\n",
    "        break\n",
    "env.render(close=True)"
   ]
  },
  {
   "cell_type": "code",
   "execution_count": 5,
   "metadata": {},
   "outputs": [
    {
     "data": {
      "text/plain": [
       "(210, 160, 3)"
      ]
     },
     "execution_count": 5,
     "metadata": {},
     "output_type": "execute_result"
    },
    {
     "data": {
      "image/png": "[encoded data removed]",
      "text/plain": [
       "<matplotlib.figure.Figure at 0x7f9ba51dca20>"
      ]
     },
     "metadata": {},
     "output_type": "display_data"
    }
   ],
   "source": [
    "S = env.reset()\n",
    "pyplot.imshow(S)\n",
    "S.shape"
   ]
  },
  {
   "cell_type": "code",
   "execution_count": 6,
   "metadata": {},
   "outputs": [
    {
     "data": {
      "text/plain": [
       "<matplotlib.image.AxesImage at 0x7f9b9ec3ab38>"
      ]
     },
     "execution_count": 6,
     "metadata": {},
     "output_type": "execute_result"
    },
    {
     "data": {
      "image/png": "[encoded data removed]",
      "text/plain": [
       "<matplotlib.figure.Figure at 0x7f9b9ec4b748>"
      ]
     },
     "metadata": {},
     "output_type": "display_data"
    }
   ],
   "source": [
    "preprocess = dqn.Preprocessor()\n",
    "sess = tensorflow.InteractiveSession()\n",
    "theta = preprocess(S, sess)\n",
    "pyplot.imshow(theta.reshape(84, 84), cmap='gray')"
   ]
  },
  {
   "cell_type": "code",
   "execution_count": null,
   "metadata": {},
   "outputs": [],
   "source": [
    "def deep_q_learning(env, time_steps):\n",
    "    C = 10000  # target network update frequency\n",
    "    time_steps_counter = range(1, time_steps + 1)\n",
    "    preprocess = dqn.Preprocessor()\n",
    "\n",
    "    # initialize replay memory\n",
    "    replay_memory = ReplayMemory()\n",
    "    # initialize action-value function with random weights\n",
    "    Q = DQN(env)\n",
    "    # intialize taget action-value function\n",
    "    target_Q = DQN(env, Q.clone_weights())\n",
    "    for episode in itertools.count():\n",
    "        # intialize sequence\n",
    "        S = env.reset()\n",
    "        theta = preprocess(S)\n",
    "        for t in time_step_counter:\n",
    "            # choose epsilon greedy action\n",
    "            A = Q.epsilon_greedy_action()\n",
    "            # execute action in emulator and observe reward and image\n",
    "            S_next, R, done, _ = env.step(A)\n",
    "            theta_next = preprocess(S_next)\n",
    "            # store transition in replay memory\n",
    "            replay_memory.store(theta, A, R, theta_next)\n",
    "            # sample minibatch from replay memory\n",
    "            transitions = replay_memory.sample_minibatch()\n",
    "            # set y\n",
    "            ys = target_Q.get_q_update(transitions)\n",
    "            # perform gradient descent step\n",
    "            Q.gradient_descent_step(ys)\n",
    "            # every C steps reset target_Q = Q\n",
    "            if time_step_counter % C == 0:\n",
    "                target_Q.weights = Q.clone_weights()\n",
    "            if done:\n",
    "                break\n",
    "            S, theta = S_next, theta_next\n",
    "\n",
    "dqn.deep_q_learning(env, 100)"
   ]
  }
 ],
 "metadata": {
  "kernelspec": {
   "display_name": "Python 3",
   "language": "python",
   "name": "python3"
  },
  "language_info": {
   "codemirror_mode": {
    "name": "ipython",
    "version": 3
   },
   "file_extension": ".py",
   "mimetype": "text/x-python",
   "name": "python",
   "nbconvert_exporter": "python",
   "pygments_lexer": "ipython3",
   "version": "3.6.3"
  }
 },
 "nbformat": 4,
 "nbformat_minor": 2
}
