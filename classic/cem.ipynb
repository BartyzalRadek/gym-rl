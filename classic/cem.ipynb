{
 "cells": [
  {
   "cell_type": "markdown",
   "metadata": {},
   "source": [
    "# Cross-entropy Method"
   ]
  },
  {
   "cell_type": "code",
   "execution_count": 1,
   "metadata": {},
   "outputs": [],
   "source": [
    "import numpy\n",
    "import gym\n",
    "import cem"
   ]
  },
  {
   "cell_type": "code",
   "execution_count": 2,
   "metadata": {},
   "outputs": [
    {
     "name": "stdout",
     "output_type": "stream",
     "text": [
      "\u001b[33mWARN: gym.spaces.Box autodetected dtype as <class 'numpy.float32'>. Please provide explicit dtype.\u001b[0m\n"
     ]
    },
    {
     "data": {
      "text/plain": [
       "(Box(6,), Discrete(3))"
      ]
     },
     "execution_count": 2,
     "metadata": {},
     "output_type": "execute_result"
    }
   ],
   "source": [
    "env = gym.make('Acrobot-v1')\n",
    "env.observation_space, env.action_space"
   ]
  },
  {
   "cell_type": "code",
   "execution_count": 3,
   "metadata": {},
   "outputs": [
    {
     "name": "stdout",
     "output_type": "stream",
     "text": [
      "iteration:        0 mean reward: -457.920000 max reward: -123.000000\n",
      "iteration:        1 mean reward: -388.520000 max reward: -76.000000\n",
      "iteration:        2 mean reward: -291.280000 max reward: -65.000000\n",
      "iteration:        3 mean reward: -224.920000 max reward: -78.000000\n",
      "iteration:        4 mean reward: -162.120000 max reward: -77.000000\n",
      "iteration:        5 mean reward: -152.400000 max reward: -63.000000\n",
      "iteration:        6 mean reward: -139.960000 max reward: -64.000000\n",
      "iteration:        7 mean reward: -168.000000 max reward: -69.000000\n",
      "iteration:        8 mean reward: -106.680000 max reward: -64.000000\n",
      "iteration:        9 mean reward: -86.640000 max reward: -64.000000\n",
      "iteration:       10 mean reward: -150.080000 max reward: -64.000000\n",
      "iteration:       11 mean reward: -105.120000 max reward: -69.000000\n",
      "iteration:       12 mean reward: -115.440000 max reward: -70.000000\n",
      "iteration:       13 mean reward: -85.360000 max reward: -64.000000\n",
      "iteration:       14 mean reward: -89.320000 max reward: -71.000000\n",
      "iteration:       15 mean reward: -85.560000 max reward: -71.000000\n",
      "iteration:       16 mean reward: -85.120000 max reward: -63.000000\n",
      "iteration:       17 mean reward: -86.720000 max reward: -70.000000\n",
      "iteration:       18 mean reward: -90.080000 max reward: -63.000000\n",
      "iteration:       19 mean reward: -84.400000 max reward: -70.000000\n",
      "iteration:       20 mean reward: -98.200000 max reward: -70.000000\n",
      "iteration:       21 mean reward: -92.520000 max reward: -69.000000\n",
      "iteration:       22 mean reward: -86.040000 max reward: -70.000000\n",
      "iteration:       23 mean reward: -80.640000 max reward: -69.000000\n",
      "iteration:       24 mean reward: -83.280000 max reward: -70.000000\n",
      "iteration:       25 mean reward: -85.840000 max reward: -71.000000\n",
      "iteration:       26 mean reward: -78.840000 max reward: -71.000000\n",
      "iteration:       27 mean reward: -91.600000 max reward: -70.000000\n",
      "iteration:       28 mean reward: -81.320000 max reward: -69.000000\n",
      "iteration:       29 mean reward: -89.640000 max reward: -70.000000\n",
      "iteration:       30 mean reward: -86.520000 max reward: -64.000000\n",
      "iteration:       31 mean reward: -86.560000 max reward: -70.000000\n",
      "iteration:       32 mean reward: -86.440000 max reward: -69.000000\n",
      "iteration:       33 mean reward: -79.800000 max reward: -70.000000\n",
      "iteration:       34 mean reward: -85.400000 max reward: -70.000000\n",
      "iteration:       35 mean reward: -88.120000 max reward: -70.000000\n",
      "iteration:       36 mean reward: -90.600000 max reward: -63.000000\n",
      "iteration:       37 mean reward: -85.080000 max reward: -69.000000\n",
      "iteration:       38 mean reward: -87.480000 max reward: -69.000000\n",
      "iteration:       39 mean reward: -86.120000 max reward: -70.000000\n",
      "iteration:       40 mean reward: -84.920000 max reward: -63.000000\n",
      "iteration:       41 mean reward: -87.520000 max reward: -70.000000\n",
      "iteration:       42 mean reward: -82.720000 max reward: -71.000000\n",
      "iteration:       43 mean reward: -77.960000 max reward: -69.000000\n",
      "iteration:       44 mean reward: -91.040000 max reward: -69.000000\n",
      "iteration:       45 mean reward: -89.160000 max reward: -71.000000\n",
      "iteration:       46 mean reward: -82.000000 max reward: -68.000000\n",
      "iteration:       47 mean reward: -88.440000 max reward: -64.000000\n",
      "iteration:       48 mean reward: -99.800000 max reward: -70.000000\n",
      "iteration:       49 mean reward: -84.760000 max reward: -71.000000\n",
      "iteration:       50 mean reward: -81.600000 max reward: -63.000000\n",
      "iteration:       51 mean reward: -83.680000 max reward: -70.000000\n",
      "iteration:       52 mean reward: -83.120000 max reward: -70.000000\n",
      "iteration:       53 mean reward: -83.680000 max reward: -70.000000\n",
      "iteration:       54 mean reward: -88.960000 max reward: -63.000000\n",
      "iteration:       55 mean reward: -89.680000 max reward: -71.000000\n",
      "iteration:       56 mean reward: -82.360000 max reward: -69.000000\n",
      "iteration:       57 mean reward: -83.680000 max reward: -70.000000\n",
      "iteration:       58 mean reward: -80.960000 max reward: -70.000000\n",
      "iteration:       59 mean reward: -89.120000 max reward: -70.000000\n",
      "iteration:       60 mean reward: -83.040000 max reward: -70.000000\n",
      "iteration:       61 mean reward: -84.280000 max reward: -63.000000\n",
      "iteration:       62 mean reward: -97.080000 max reward: -70.000000\n",
      "iteration:       63 mean reward: -81.280000 max reward: -69.000000\n",
      "iteration:       64 mean reward: -79.680000 max reward: -71.000000\n",
      "iteration:       65 mean reward: -84.960000 max reward: -63.000000\n",
      "iteration:       66 mean reward: -93.840000 max reward: -70.000000\n",
      "iteration:       67 mean reward: -92.120000 max reward: -69.000000\n",
      "iteration:       68 mean reward: -85.720000 max reward: -69.000000\n",
      "iteration:       69 mean reward: -81.840000 max reward: -70.000000\n",
      "iteration:       70 mean reward: -86.880000 max reward: -63.000000\n",
      "iteration:       71 mean reward: -92.120000 max reward: -71.000000\n",
      "iteration:       72 mean reward: -85.400000 max reward: -70.000000\n",
      "iteration:       73 mean reward: -91.160000 max reward: -69.000000\n",
      "iteration:       74 mean reward: -88.280000 max reward: -69.000000\n",
      "iteration:       75 mean reward: -83.480000 max reward: -70.000000\n",
      "iteration:       76 mean reward: -83.440000 max reward: -63.000000\n",
      "iteration:       77 mean reward: -87.880000 max reward: -70.000000\n",
      "iteration:       78 mean reward: -84.040000 max reward: -64.000000\n",
      "iteration:       79 mean reward: -84.720000 max reward: -69.000000\n",
      "iteration:       80 mean reward: -86.040000 max reward: -64.000000\n",
      "iteration:       81 mean reward: -85.440000 max reward: -70.000000\n",
      "iteration:       82 mean reward: -89.640000 max reward: -70.000000\n",
      "iteration:       83 mean reward: -86.360000 max reward: -64.000000\n",
      "iteration:       84 mean reward: -83.760000 max reward: -64.000000\n",
      "iteration:       85 mean reward: -93.240000 max reward: -71.000000\n",
      "iteration:       86 mean reward: -87.640000 max reward: -64.000000\n",
      "iteration:       87 mean reward: -80.400000 max reward: -70.000000\n",
      "iteration:       88 mean reward: -79.600000 max reward: -69.000000\n",
      "iteration:       89 mean reward: -82.200000 max reward: -70.000000\n",
      "iteration:       90 mean reward: -83.280000 max reward: -63.000000\n",
      "iteration:       91 mean reward: -81.240000 max reward: -70.000000\n",
      "iteration:       92 mean reward: -87.600000 max reward: -70.000000\n",
      "iteration:       93 mean reward: -85.520000 max reward: -69.000000\n",
      "iteration:       94 mean reward: -78.920000 max reward: -70.000000\n",
      "iteration:       95 mean reward: -85.680000 max reward: -64.000000\n",
      "iteration:       96 mean reward: -83.840000 max reward: -70.000000\n",
      "iteration:       97 mean reward: -78.480000 max reward: -64.000000\n",
      "iteration:       98 mean reward: -91.520000 max reward: -69.000000\n",
      "iteration:       99 mean reward: -90.640000 max reward: -69.000000\n"
     ]
    }
   ],
   "source": [
    "cem.cross_entropy_method(env, 100, 500)\n",
    "env.close()"
   ]
  }
 ],
 "metadata": {
  "kernelspec": {
   "display_name": "Python 3",
   "language": "python",
   "name": "python3"
  },
  "language_info": {
   "codemirror_mode": {
    "name": "ipython",
    "version": 3
   },
   "file_extension": ".py",
   "mimetype": "text/x-python",
   "name": "python",
   "nbconvert_exporter": "python",
   "pygments_lexer": "ipython3",
   "version": "3.6.3"
  }
 },
 "nbformat": 4,
 "nbformat_minor": 2
}
