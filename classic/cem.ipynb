{
 "cells": [
  {
   "cell_type": "markdown",
   "metadata": {},
   "source": [
    "# Cross-entropy Method"
   ]
  },
  {
   "cell_type": "code",
   "execution_count": 1,
   "metadata": {},
   "outputs": [],
   "source": [
    "import numpy\n",
    "import gym\n",
    "import cem"
   ]
  },
  {
   "cell_type": "code",
   "execution_count": 2,
   "metadata": {},
   "outputs": [
    {
     "name": "stdout",
     "output_type": "stream",
     "text": [
      "\u001b[33mWARN: gym.spaces.Box autodetected dtype as <class 'numpy.float32'>. Please provide explicit dtype.\u001b[0m\n"
     ]
    },
    {
     "data": {
      "text/plain": [
       "(Box(6,), Discrete(3))"
      ]
     },
     "execution_count": 2,
     "metadata": {},
     "output_type": "execute_result"
    }
   ],
   "source": [
    "env = gym.make('Acrobot-v1')\n",
    "env.observation_space, env.action_space"
   ]
  },
  {
   "cell_type": "code",
   "execution_count": 3,
   "metadata": {},
   "outputs": [
    {
     "name": "stdout",
     "output_type": "stream",
     "text": [
      "iteration:        0 mean reward: -428.880000 max reward: -98.000000\n",
      "iteration:        1 mean reward: -433.480000 max reward: -89.000000\n",
      "iteration:        2 mean reward: -261.440000 max reward: -81.000000\n",
      "iteration:        3 mean reward: -267.440000 max reward: -72.000000\n",
      "iteration:        4 mean reward: -195.160000 max reward: -64.000000\n",
      "iteration:        5 mean reward: -134.600000 max reward: -65.000000\n",
      "iteration:        6 mean reward: -90.760000 max reward: -64.000000\n",
      "iteration:        7 mean reward: -85.960000 max reward: -65.000000\n",
      "iteration:        8 mean reward: -95.960000 max reward: -73.000000\n",
      "iteration:        9 mean reward: -82.600000 max reward: -65.000000\n",
      "iteration:       10 mean reward: -87.600000 max reward: -65.000000\n",
      "iteration:       11 mean reward: -92.240000 max reward: -65.000000\n",
      "iteration:       12 mean reward: -90.080000 max reward: -64.000000\n",
      "iteration:       13 mean reward: -82.480000 max reward: -64.000000\n",
      "iteration:       14 mean reward: -80.360000 max reward: -65.000000\n",
      "iteration:       15 mean reward: -92.520000 max reward: -65.000000\n",
      "iteration:       16 mean reward: -87.160000 max reward: -64.000000\n",
      "iteration:       17 mean reward: -82.840000 max reward: -65.000000\n",
      "iteration:       18 mean reward: -76.440000 max reward: -64.000000\n",
      "iteration:       19 mean reward: -88.000000 max reward: -64.000000\n",
      "iteration:       20 mean reward: -81.440000 max reward: -64.000000\n",
      "iteration:       21 mean reward: -86.160000 max reward: -64.000000\n",
      "iteration:       22 mean reward: -80.560000 max reward: -65.000000\n",
      "iteration:       23 mean reward: -83.200000 max reward: -64.000000\n",
      "iteration:       24 mean reward: -90.760000 max reward: -64.000000\n",
      "iteration:       25 mean reward: -98.360000 max reward: -65.000000\n",
      "iteration:       26 mean reward: -91.200000 max reward: -65.000000\n",
      "iteration:       27 mean reward: -76.920000 max reward: -64.000000\n",
      "iteration:       28 mean reward: -78.240000 max reward: -64.000000\n",
      "iteration:       29 mean reward: -83.320000 max reward: -64.000000\n",
      "iteration:       30 mean reward: -77.360000 max reward: -64.000000\n",
      "iteration:       31 mean reward: -97.040000 max reward: -65.000000\n",
      "iteration:       32 mean reward: -82.200000 max reward: -64.000000\n",
      "iteration:       33 mean reward: -88.560000 max reward: -64.000000\n",
      "iteration:       34 mean reward: -85.560000 max reward: -65.000000\n",
      "iteration:       35 mean reward: -86.480000 max reward: -65.000000\n",
      "iteration:       36 mean reward: -83.240000 max reward: -65.000000\n",
      "iteration:       37 mean reward: -92.960000 max reward: -64.000000\n",
      "iteration:       38 mean reward: -77.120000 max reward: -65.000000\n",
      "iteration:       39 mean reward: -89.480000 max reward: -65.000000\n",
      "iteration:       40 mean reward: -93.720000 max reward: -64.000000\n",
      "iteration:       41 mean reward: -83.480000 max reward: -64.000000\n",
      "iteration:       42 mean reward: -75.280000 max reward: -64.000000\n",
      "iteration:       43 mean reward: -79.960000 max reward: -64.000000\n",
      "iteration:       44 mean reward: -84.760000 max reward: -64.000000\n",
      "iteration:       45 mean reward: -87.960000 max reward: -64.000000\n",
      "iteration:       46 mean reward: -91.600000 max reward: -64.000000\n",
      "iteration:       47 mean reward: -75.720000 max reward: -64.000000\n",
      "iteration:       48 mean reward: -81.680000 max reward: -64.000000\n",
      "iteration:       49 mean reward: -83.200000 max reward: -64.000000\n",
      "iteration:       50 mean reward: -82.040000 max reward: -64.000000\n",
      "iteration:       51 mean reward: -80.560000 max reward: -65.000000\n",
      "iteration:       52 mean reward: -86.560000 max reward: -64.000000\n",
      "iteration:       53 mean reward: -88.280000 max reward: -64.000000\n",
      "iteration:       54 mean reward: -85.040000 max reward: -64.000000\n",
      "iteration:       55 mean reward: -93.560000 max reward: -65.000000\n",
      "iteration:       56 mean reward: -75.520000 max reward: -64.000000\n",
      "iteration:       57 mean reward: -79.680000 max reward: -64.000000\n",
      "iteration:       58 mean reward: -82.240000 max reward: -64.000000\n",
      "iteration:       59 mean reward: -85.560000 max reward: -64.000000\n",
      "iteration:       60 mean reward: -94.360000 max reward: -64.000000\n",
      "iteration:       61 mean reward: -87.520000 max reward: -65.000000\n",
      "iteration:       62 mean reward: -86.400000 max reward: -64.000000\n",
      "iteration:       63 mean reward: -79.960000 max reward: -64.000000\n",
      "iteration:       64 mean reward: -76.720000 max reward: -65.000000\n",
      "iteration:       65 mean reward: -86.160000 max reward: -65.000000\n",
      "iteration:       66 mean reward: -78.360000 max reward: -64.000000\n",
      "iteration:       67 mean reward: -98.600000 max reward: -64.000000\n",
      "iteration:       68 mean reward: -80.240000 max reward: -64.000000\n",
      "iteration:       69 mean reward: -82.800000 max reward: -65.000000\n",
      "iteration:       70 mean reward: -80.200000 max reward: -64.000000\n",
      "iteration:       71 mean reward: -79.200000 max reward: -65.000000\n",
      "iteration:       72 mean reward: -77.360000 max reward: -64.000000\n",
      "iteration:       73 mean reward: -89.920000 max reward: -64.000000\n",
      "iteration:       74 mean reward: -90.160000 max reward: -65.000000\n",
      "iteration:       75 mean reward: -83.240000 max reward: -64.000000\n",
      "iteration:       76 mean reward: -85.400000 max reward: -65.000000\n",
      "iteration:       77 mean reward: -91.200000 max reward: -64.000000\n",
      "iteration:       78 mean reward: -77.560000 max reward: -64.000000\n",
      "iteration:       79 mean reward: -87.160000 max reward: -64.000000\n",
      "iteration:       80 mean reward: -87.080000 max reward: -65.000000\n",
      "iteration:       81 mean reward: -84.320000 max reward: -65.000000\n",
      "iteration:       82 mean reward: -83.840000 max reward: -64.000000\n",
      "iteration:       83 mean reward: -82.480000 max reward: -64.000000\n",
      "iteration:       84 mean reward: -81.720000 max reward: -65.000000\n",
      "iteration:       85 mean reward: -79.640000 max reward: -65.000000\n",
      "iteration:       86 mean reward: -80.880000 max reward: -64.000000\n",
      "iteration:       87 mean reward: -85.320000 max reward: -64.000000\n",
      "iteration:       88 mean reward: -85.200000 max reward: -64.000000\n",
      "iteration:       89 mean reward: -85.320000 max reward: -66.000000\n",
      "iteration:       90 mean reward: -95.440000 max reward: -64.000000\n",
      "iteration:       91 mean reward: -78.920000 max reward: -64.000000\n",
      "iteration:       92 mean reward: -91.080000 max reward: -65.000000\n",
      "iteration:       93 mean reward: -78.440000 max reward: -64.000000\n",
      "iteration:       94 mean reward: -79.640000 max reward: -64.000000\n",
      "iteration:       95 mean reward: -88.400000 max reward: -65.000000\n",
      "iteration:       96 mean reward: -83.720000 max reward: -64.000000\n",
      "iteration:       97 mean reward: -81.800000 max reward: -64.000000\n",
      "iteration:       98 mean reward: -85.080000 max reward: -65.000000\n",
      "iteration:       99 mean reward: -84.360000 max reward: -64.000000\n"
     ]
    }
   ],
   "source": [
    "cem.cross_entropy_method(env, 100, 500)\n",
    "env.close()"
   ]
  }
 ],
 "metadata": {
  "kernelspec": {
   "display_name": "Python 3",
   "language": "python",
   "name": "python3"
  },
  "language_info": {
   "codemirror_mode": {
    "name": "ipython",
    "version": 3
   },
   "file_extension": ".py",
   "mimetype": "text/x-python",
   "name": "python",
   "nbconvert_exporter": "python",
   "pygments_lexer": "ipython3",
   "version": "3.6.3"
  }
 },
 "nbformat": 4,
 "nbformat_minor": 2
}
